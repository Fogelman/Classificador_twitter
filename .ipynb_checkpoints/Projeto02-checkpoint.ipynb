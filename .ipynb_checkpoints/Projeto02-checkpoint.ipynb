{
 "cells": [
  {
   "cell_type": "markdown",
   "metadata": {},
   "source": [
    "# Projeto 2 - Classificador Automático de Sentimento\n",
    "\n",
    "Você foi contratado por uma empresa parar analisar como os clientes estão reagindo a um determinado produto no Twitter. A empresa deseja que você crie um programa que irá analisar as mensagens disponíveis e classificará como \"relevante\" ou \"irrelevante\". Com isso ela deseja que mensagens negativas, que denigrem o nome do produto, ou que mereçam destaque, disparem um foco de atenção da área de marketing.<br /><br />\n",
    "Como aluno de Ciência dos Dados, você lembrou do Teorema de Bayes, mais especificamente do Classificador Naive-Bayes, que é largamente utilizado em filtros anti-spam de e-mails. O classificador permite calcular qual a probabilidade de uma mensagem ser relevante dadas as palavras em seu conteúdo.<br /><br />\n",
    "Para realizar o MVP (*minimum viable product*) do projeto, você precisa implementar uma versão do classificador que \"aprende\" o que é relevante com uma base de treinamento e compara a performance dos resultados com uma base de testes.<br /><br />\n",
    "Após validado, o seu protótipo poderá também capturar e classificar automaticamente as mensagens da plataforma.\n",
    "\n",
    "## Informações do Projeto\n",
    "\n",
    "Prazo: 13/Set até às 23:59.<br />\n",
    "Grupo: 1 ou 2 pessoas.<br /><br />\n",
    "Entregáveis via GitHub: \n",
    "* Arquivo notebook com o código do classificador, seguindo as orientações abaixo.\n",
    "* Arquivo Excel com as bases de treinamento e teste totalmente classificado.\n",
    "\n",
    "**NÃO disponibilizar o arquivo com os *access keys/tokens* do Twitter.**\n",
    "\n",
    "\n",
    "### Check 3: \n",
    "\n",
    "Até o dia 06 de Setembro às 23:59, o notebook e o xlsx devem estar no Github com as seguintes evidências: \n",
    "    * Conta no twitter criada.\n",
    "    * Produto escolhido.\n",
    "    * Arquivo Excel contendo a base de treinamento e teste já classificado.\n",
    "\n",
    "Sugestão de leitura:<br />\n",
    "http://docs.tweepy.org/en/v3.5.0/index.html<br />\n",
    "https://monkeylearn.com/blog/practical-explanation-naive-bayes-classifier/"
   ]
  },
  {
   "cell_type": "markdown",
   "metadata": {},
   "source": [
    "___\n",
    "\n",
    "## Preparando o ambiente\n",
    "\n",
    "Instalando a biblioteca *tweepy* para realizar a conexão com o Twitter:"
   ]
  },
  {
   "cell_type": "code",
   "execution_count": 7,
   "metadata": {
    "collapsed": true
   },
   "outputs": [],
   "source": [
    "%%capture\n",
    "\n",
    "#Instalando o tweepy\n",
    "!pip install tweepy"
   ]
  },
  {
   "cell_type": "markdown",
   "metadata": {},
   "source": [
    "Importando as Bibliotecas que serão utilizadas. Esteja livre para adicionar outras."
   ]
  },
  {
   "cell_type": "code",
   "execution_count": 14,
   "metadata": {
    "collapsed": true
   },
   "outputs": [],
   "source": [
    "import tweepy\n",
    "import math\n",
    "import os.path\n",
    "import pandas as pd\n",
    "import json\n",
    "from random import shuffle"
   ]
  },
  {
   "cell_type": "markdown",
   "metadata": {},
   "source": [
    "___\n",
    "## Autenticando no  Twitter\n",
    "\n",
    "Para realizar a captura dos dados é necessário ter uma conta cadastrada no twitter:\n",
    "\n",
    "* Conta: ***[Preencha aqui o id da sua conta. Ex: @fulano ]***\n",
    "\n",
    "\n",
    "1. Caso ainda não tenha uma: https://twitter.com/signup\n",
    "1. Depois é necessário registrar um app para usar a biblioteca: https://apps.twitter.com/\n",
    "1. Dentro do registro do App, na aba Keys and Access Tokens, anotar os seguintes campos:\n",
    "    1. Consumer Key (API Key)\n",
    "    1. Consumer Secret (API Secret)\n",
    "1. Mais abaixo, gere um Token e anote também:\n",
    "    1. Access Token\n",
    "    1. Access Token Secret\n",
    "    \n",
    "1. Preencha os valores no arquivo \"auth.pass\"\n",
    "\n",
    "**ATENÇÃO**: Nunca divulgue os dados desse arquivo online (GitHub, etc). Ele contém as chaves necessárias para realizar as operações no twitter de forma automática e portanto é equivalente a ser \"hackeado\". De posse desses dados, pessoas mal intencionadas podem fazer todas as operações manuais (tweetar, seguir, bloquear/desbloquear, listar os seguidores, etc). Para efeito do projeto, esse arquivo não precisa ser entregue!!!"
   ]
  },
  {
   "cell_type": "code",
   "execution_count": 9,
   "metadata": {
    "collapsed": true
   },
   "outputs": [],
   "source": [
    "#Dados de autenticação do twitter:\n",
    "\n",
    "#Coloque aqui o identificador da conta no twitter: @fulano\n",
    "\n",
    "#leitura do arquivo no formato JSON\n",
    "with open('auth.pass') as fp:    \n",
    "    data = json.load(fp)\n",
    "\n",
    "#Configurando a biblioteca. Não modificar\n",
    "auth = tweepy.OAuthHandler(data['consumer_key'], data['consumer_secret'])\n",
    "auth.set_access_token(data['access_token'], data['access_token_secret'])"
   ]
  },
  {
   "cell_type": "markdown",
   "metadata": {},
   "source": [
    "___\n",
    "## Coletando Dados\n",
    "\n",
    "Agora vamos coletar os dados. Tenha em mente que dependendo do produto escolhido, não haverá uma quantidade significativa de mensagens, ou ainda poder haver muitos retweets.<br /><br /> \n",
    "Configurando:"
   ]
  },
  {
   "cell_type": "code",
   "execution_count": 10,
   "metadata": {
    "collapsed": true
   },
   "outputs": [],
   "source": [
    "#Produto escolhido:\n",
    "produto = 'galaxy'\n",
    "\n",
    "#Quantidade mínima de mensagens capturadas:\n",
    "n = 500\n",
    "#Quantidade mínima de mensagens para a base de treinamento:\n",
    "t = 300\n",
    "\n",
    "#Filtro de língua, escolha uma na tabela ISO 639-1.\n",
    "lang = 'pt'"
   ]
  },
  {
   "cell_type": "markdown",
   "metadata": {},
   "source": [
    "Capturando os dados do twitter:"
   ]
  },
  {
   "cell_type": "code",
   "execution_count": 11,
   "metadata": {
    "collapsed": true
   },
   "outputs": [],
   "source": [
    "#Cria um objeto para a captura\n",
    "api = tweepy.API(auth)\n",
    "\n",
    "#Inicia a captura, para mais detalhes: ver a documentação do tweepy\n",
    "i = 1\n",
    "msgs = []\n",
    "for msg in tweepy.Cursor(api.search, q=produto, lang=lang).items():    \n",
    "    msgs.append(msg.text.lower())\n",
    "    i += 1\n",
    "    if i > n:\n",
    "        break\n",
    "\n",
    "    \n",
    "#Embaralhando as mensagens para reduzir um possível viés\n",
    "shuffle(msgs)"
   ]
  },
  {
   "cell_type": "markdown",
   "metadata": {},
   "source": [
    "Salvando os dados em uma planilha Excel:"
   ]
  },
  {
   "cell_type": "code",
   "execution_count": 12,
   "metadata": {
    "collapsed": true
   },
   "outputs": [],
   "source": [
    "#Verifica se o arquivo não existe para não substituir um conjunto pronto\n",
    "if not os.path.isfile('./{0}.xlsx'.format(produto)):\n",
    "    \n",
    "    #Abre o arquivo para escrita\n",
    "    writer = pd.ExcelWriter('{0}.xlsx'.format(produto))\n",
    "\n",
    "    #divide o conjunto de mensagens em duas planilhas\n",
    "    dft = pd.DataFrame({'Treinamento' : pd.Series(msgs[:t])})\n",
    "    dft.to_excel(excel_writer = writer, sheet_name = 'Treinamento', index = False)\n",
    "\n",
    "    dfc = pd.DataFrame({'Teste' : pd.Series(msgs[t:])})\n",
    "    dfc.to_excel(excel_writer = writer, sheet_name = 'Teste', index = False)\n",
    "\n",
    "    #fecha o arquivo\n",
    "    writer.save()"
   ]
  },
  {
   "cell_type": "markdown",
   "metadata": {},
   "source": [
    "___\n",
    "## Classificando as Mensagens\n",
    "\n",
    "Agora você deve abrir o arquivo Excel com as mensagens capturadas e classificar na Coluna B se a mensagem é relevante ou não.<br /> \n",
    "Não se esqueça de colocar um nome para a coluna na célula **B1**.<br /><br />\n",
    "Fazer o mesmo na planilha de Controle.\n",
    "\n",
    "___\n",
    "## Montando o Classificador Naive-Bayes\n",
    "\n",
    "Com a base de treinamento montada, comece a desenvolver o classificador. Escreva o seu código abaixo:\n",
    "\n",
    "Opcionalmente: \n",
    "* Limpar as mensagens removendo os caracteres: enter, :, \", ', (, ), etc. Não remover emojis.<br />\n",
    "* Corrigir separação de espaços entre palavras e/ou emojis.\n",
    "* Propor outras limpezas/transformações que não afetem a qualidade da informação.\n",
    "\n"
   ]
  },
  {
   "cell_type": "code",
   "execution_count": 21,
   "metadata": {
    "collapsed": false
   },
   "outputs": [],
   "source": [
    "#dados = pd.read_excel('galaxy.xlsx')\n",
    "xls = pd.ExcelFile('galaxy.xlsx')\n",
    "Treinamento= xls.parse('Treinamento')\n",
    "Teste = xls.parse('Teste')\n"
   ]
  },
  {
   "cell_type": "code",
   "execution_count": 52,
   "metadata": {
    "collapsed": false,
    "scrolled": true
   },
   "outputs": [],
   "source": [
    "Teste_clas_palavras = []\n",
    "for values in Teste.classificação:\n",
    "    Teste_palavras.append(values.split())\n"
   ]
  },
  {
   "cell_type": "code",
   "execution_count": 55,
   "metadata": {
    "collapsed": false,
    "scrolled": false
   },
   "outputs": [
    {
     "name": "stdout",
     "output_type": "stream",
     "text": [
      "{'https://t.co/gd04txgt2k': [1, 0], '-': [7, 52], 'netflix': [11, 1], 'agora': [9, 3], 'dá': [9, 2], 'suporte': [12, 1], 'a': [17, 20], 'filmes': [9, 1], 'e': [19, 42], 'séries': [9, 1], 'em': [14, 21], 'hdr': [12, 1], 'no': [12, 24], 'galaxy': [56, 102], 'note': [24, 9], '8': [20, 17], 'https://t.co/qwmbqz9xu7': [1, 0], 'gente': [0, 1], 'me': [0, 12], 'ajuda': [0, 1], 'vale': [0, 1], 'pena': [0, 1], 'trocar': [0, 2], 'um': [17, 40], 'j7': [6, 9], 'por': [0, 6], 'iphone': [10, 15], '6plus': [0, 1], 'ou': [0, 7], 'o': [14, 39], '7': [9, 3], '?': [1, 5], 'help': [0, 1], 'https://t.co/eiiwcu8cxv': [0, 1], 'breve': [0, 2], 'brasil!': [0, 1], 'vivo': [0, 1], 'começa': [0, 1], 'aceitar': [0, 1], 'registro': [0, 1], 'para': [3, 6], 'pré-venda': [0, 1], 'do': [12, 33], 'https://t.co/8egkzrrb6j': [0, 1], 'gostei': [11, 16], 'de': [22, 52], 'vídeo': [11, 16], '@youtube': [11, 20], 'https://t.co/xxgbtorazx': [0, 1], 'está': [3, 3], 'aqui!': [3, 1], 'rt': [7, 39], '@olhardigital:': [0, 1], 'plus': [10, 6], 'é': [17, 12], 'oficializado': [5, 4], 'com': [16, 18], 'câmera': [5, 6], 'dupla': [5, 4], 'assistente': [5, 4], 'bixby:': [3, 3], 'https://t.co/vruknvazsp': [1, 1], 'https://t.co/xvt6ysfpst': [1, 1], '8?': [2, 0], 'tô': [2, 3], 'fora.': [1, 0], 'pego': [3, 0], 'meu': [2, 10], 'vou': [4, 4], 'embora.': [1, 0], 'https://t.co/xdycpbusug': [1, 0], 'lg': [0, 2], 'v30': [0, 1], 'x': [0, 1], 's8:': [0, 1], 'qual': [0, 2], 'melhor': [1, 6], 'fotos': [0, 1], 'noturnas?': [0, 1], 'eis': [0, 1], 'aqui': [0, 1], '...': [0, 1], 'https://t.co/ybqkhl1aap': [0, 1], 'https://t.co/sutmpgdtgk': [0, 1], '@ironmaknae:': [0, 1], 'okay,': [0, 1], 'letra': [0, 1], 'serendipity': [0, 2], 'romântica,': [0, 1], 'mas': [1, 4], 'será': [0, 2], 'que': [4, 17], 'podiam': [0, 1], 'tentar': [0, 1], 'ver': [0, 1], 'além': [1, 1], 'dela': [0, 1], 'parar': [0, 1], 'dizer': [0, 1], 'sobre': [1, 2], 'encontrar': [0, 1], 'a…': [0, 1], 'vendendo': [0, 1], 'j5': [2, 3], 'novinho': [0, 1], '350': [0, 1], 'reais': [0, 1], 'gentr': [0, 1], 'comprem': [0, 1], 'amo': [0, 1], 'vcs': [0, 1], 'https://t.co/bjzyuag4qi': [1, 0], '[unboxing]': [2, 0], '@galaxy_draw': [0, 1], 'brasileiro': [0, 1], 'n': [0, 3], 'domina': [0, 1], 'mundo': [0, 2], 'porque': [0, 2], 'quer': [0, 1], 'preguiça': [0, 1], 'mesmo': [1, 3], '@carlos22alts:': [0, 11], 'sorteo': [0, 11], 'express': [0, 11], '📱samsun': [0, 11], 'galaxy!': [0, 11], 'req:': [0, 11], 'seguirme': [0, 11], '@carlos22alts': [0, 11], 'dar': [0, 13], 'rt🔁': [0, 11], '30': [0, 11], 'minutos': [0, 11], '🔚': [0, 11], '@macaulincrack:': [0, 6], 'quem': [1, 7], 'rosto': [0, 6], 'limpo': [0, 6], 'fala': [0, 6], 'segredo': [0, 6], 'pra': [3, 12], 'ter': [2, 8], 'asssim': [0, 6], 'compra': [0, 6], 'samsung': [5, 25], 'q': [1, 8], 'kkkkkkkkkkkkkkkkkkkk': [0, 6], 'kjsalsdl…': [0, 6], '@to9etherwithyou:': [0, 1], 'colorrrrrrrrrr': [0, 1], 'https://t.co/y4fejz0idm': [0, 1], '@samsungbrasil:': [3, 2], 'flash': [2, 0], 'frontal,': [2, 0], 'design': [2, 0], 'metal': [2, 1], 'mais': [5, 22], 'memória.': [2, 0], 'j': [2, 0], 'você': [3, 1], 'completo.': [2, 0], 'https://t.co/md4adzptxk': [2, 0], 'https…': [2, 0], 'to': [3, 8], 'doido': [1, 0], 'pelo': [2, 1], 's8': [10, 5], 'sendo': [0, 1], 'atualizado': [0, 1], 'android': [0, 5], '7.0': [0, 1], 'nougat': [0, 1], 'https://t.co/n8sv0ik4nw': [0, 1], 'https://t.co/a2tktnmo65': [0, 1], 'https://t.co/zwcg6pdejv': [1, 0], 'gaming': [1, 0], 'review!': [1, 0], '(4k)': [1, 0], 'eu': [3, 21], 'pasma.': [0, 1], 'cérebro': [0, 1], 'não': [0, 4], 'consegue': [0, 1], 'raciocinar': [0, 1], 'voz': [0, 3], 'jimin': [0, 4], 'ta': [1, 7], 'loop': [0, 1], 'na': [11, 9], 'minha': [3, 3], 'cabeça': [0, 1], '#serendipity': [0, 4], '@techtudo:': [0, 1], 'como': [1, 4], 'plano': [0, 1], 'fundo': [0, 1], 'https://t.co/slh35ugwhx': [0, 1], 'https://t.co/22thprkgdb': [0, 1], 'nem': [0, 3], 'tenho': [0, 6], 'dinheiro': [0, 1], 'comprar': [1, 3], 'y': [0, 2], 'quanto': [0, 1], 'pro': [0, 3], 'fora': [1, 1], 'orçamento😂😂': [0, 1], 'https://t.co/zwpajhxubi': [0, 1], '@_fivestarz': [0, 1], 'migo,': [0, 1], 'pode': [0, 6], 'entrar': [0, 2], 'nesse': [0, 2], 'link': [0, 2], '\"other': [0, 2], 'phone\"': [0, 2], 'colocar': [0, 2], '\"galaxy': [2, 2], 's8+\"': [0, 2], 'favor???': [0, 2], '😢😢😢': [0, 2], 'https://t.co/ulbx4yi9fx': [0, 2], 'fe': [6, 0], 'tem': [7, 6], 'vendas': [5, 0], 'esgotadas': [6, 0], 'coreia': [6, 0], 'sul': [6, 0], 'https://t.co/ndbon36wum': [1, 0], 'https://t.co/8y1stodd1x': [0, 1], 's7': [0, 5], 'edge': [0, 3], 'azul': [0, 1], 'edição': [0, 1], 'limitada': [0, 1], 'comprado': [0, 1], 'dia': [0, 1], '17/05/2017': [0, 1], 'estado': [0, 1], 'zero…': [0, 1], 'https://t.co/zomitue0fz': [0, 1], 'pocket': [2, 8], 'https://t.co/almcbb8h1b': [1, 0], '[#info]': [0, 1], '030917': [0, 2], '|': [0, 2], 'equipa': [0, 1], '#kriswu,': [0, 1], 'evento': [0, 2], '6º': [0, 2], 'aniversário': [0, 3], 'lol,': [0, 1], 'foi': [0, 4], 'nomeado': [0, 2], '\"galaxy\".': [0, 1], 'https://t.co/yuibnoax1a': [0, 1], 'https://t.co/agpizkurbc': [1, 0], 'da': [5, 2], 'última': [0, 1], 'vez': [0, 2], 'hobi': [0, 1], 'ficou': [0, 3], 'responsável': [0, 1], 'pela': [0, 2], 'intro': [0, 1], 'ele': [1, 3], 'bastante': [0, 1], 'ansioso': [0, 1], 'reação': [0, 1], 'das': [0, 1], 'fãs': [0, 1], 'agr': [0, 1], 'imagina': [0, 1], 'deve': [0, 1], 'ainda': [0, 4], 'https://t.co/rknhjucywd': [0, 1], '@tec_mundo:': [0, 1], 'google,': [0, 12], 'windows': [0, 12], 'mobile,': [0, 12], 'j7+': [0, 12], 'hoje': [0, 12], 'tecmundo:': [0, 2], 'https://t.co/qffpjphteo': [0, 1], 'via': [0, 6], 'https://t.co/o1rkf68hlv🔴': [0, 1], 'servidor': [0, 4], 'kitpvp': [0, 3], '‹': [0, 3], '›': [0, 3], '8:': [1, 0], 'mandou': [1, 0], 'abraço.': [1, 0], 'https://t.co/tecoxshziyário': [0, 1], 'tecmundo': [0, 10], 'https://t.co/g2bxvr2kyj': [1, 0], 'primeiro': [4, 0], 'smartphone': [3, 3], 'https://t.co/04n9etflim': [1, 0], 'apple': [0, 3], 'vai': [0, 11], 'aguentar': [0, 1], 'essa': [0, 1], 'pressão?': [0, 1], 'https://t.co/5brtfkkfvv': [0, 1], '@imlouuh': [0, 1], '84': [0, 1], ';-!': [0, 1], '@raaelzao': [0, 1], 'eu,': [0, 1], 'https://t.co/ubtdly37x2': [1, 0], 'https://t.co/msuyt1xn9j': [1, 0], 'rom': [2, 0], 'original': [1, 0], 'fábrica': [1, 0], 'stock': [1, 0], 'l': [1, 0], 'j500m': [1, 0], '(downgrade': [1, 0], '5.1)': [1, 0], '@null': [0, 1], 'noteii': [0, 1], \"they're\": [0, 1], 'coming!': [0, 1], 'tá': [2, 2], 'siad': [0, 1], 'ag': [0, 1], 'teacht!': [0, 1], 'https://t.co/ujz8b0us72': [0, 1], 'tec_mundo': [0, 1], '\"aniversário': [0, 1], 'https://t.co/spybf50ocz': [0, 1], 'youtube\"': [0, 1], '@vmariespindola:': [0, 1], '\"meus': [0, 1], 'filhos': [0, 1], 'estudaram': [0, 1], 'cp2': [0, 1], 'mimimi': [0, 2], 'moro': [0, 1], 'barra': [0, 1], '8\"': [0, 1], 'https://t.co/nywbhmh8qd': [1, 0], 'https://t.co/wlx1r77wo0': [1, 0], '@macmagazine:': [3, 0], 'vídeo:': [3, 0], 'comparativo': [3, 2], 'câmeras,': [3, 0], 'note8': [3, 0], 'ganha': [3, 0], 'sobra': [3, 0], 'https://t.co/gnvia5dxr6': [3, 0], 'https://t.co/n3nfw…': [3, 0], 'https://t.co/xxn0fot1tt': [1, 0], 'of': [1, 2], 'undergoing': [1, 0], 'ram': [1, 0], 'pressure': [1, 0], 'stripping': [1, 0], 'quero': [1, 1], 's8.': [2, 0], 'bonito': [1, 0], 'porra,': [1, 0], '@samsungbrasil.': [1, 1], 'meus': [1, 0], 'parabéns.': [1, 0], '@5gu': [0, 1], 'sou': [0, 1], 'feia': [0, 1], 's': [0, 2], '@servidoressky:': [0, 1], '💫': [0, 1], 'factions': [0, 1], 'lançado': [0, 1], 'oficialmente': [0, 1], 'beta': [0, 1], 'vip!': [0, 1], 'veja': [0, 1], 'todas': [0, 2], 'as': [0, 3], 'novidades': [0, 2], 'esse': [1, 2], 'acessando': [0, 1], 'https://t.co/p…': [0, 1], '@hoseokkysmile:': [0, 1], 'impressionante': [0, 1], 'próprio': [1, 1], 'park': [0, 2], 'conseguiu': [0, 1], 'acalmar': [0, 1], 'quando': [0, 2], 'estava': [0, 1], 'surtando': [0, 1], 'm…': [0, 1], '@whostaehyungz:': [0, 1], 'puta': [0, 1], 'pariu': [0, 1], 'ninguém': [0, 1], 'aguenta': [0, 1], 'essas': [0, 1], 'brigas': [0, 1], 'exol': [0, 1], 'army': [0, 1], 'vão': [0, 1], 'todo': [0, 1], 'se': [2, 6], 'foder': [0, 1], 'porra': [0, 2], 'olhardigital:': [0, 1], 'https://t.co/n0rcpnsg78': [0, 1], 'https://t.co/wunknopgns': [0, 1], 'alguém': [0, 2], 'aí': [0, 1], 'conhece': [0, 1], 's8?': [0, 1], '5.000': [1, 0], 'fora,': [1, 0], 'embora': [2, 0], '@starlordnt:': [0, 1], 'ser': [1, 9], 'uma': [1, 11], 'cópia': [0, 2], 's8,': [1, 3], 'surpresa?': [0, 2], 'pouco': [0, 3], 'https://t.co/zwywfqszh4🔴': [0, 1], 'https://t.co/2l5lmqjppdário': [0, 1], 'tv': [0, 3], 'hd': [0, 1], 'curte': [1, 1], 'ficar': [0, 1], 'ligado': [0, 1], 'qualquer': [0, 2], 'lugar.': [0, 1], 'conheça': [0, 1], 'neo:': [0, 1], 'https://t.co/q9mcssu9tt': [0, 1], 'https://t.co/…': [0, 1], '@cauanzin45:': [0, 1], 'dos': [1, 1], '2': [0, 3], 'desafio': [0, 1], 'fantártico?': [0, 1], 'https://t.co/9pjm2p8tte': [0, 1], 'https://t.co/82oqilo73r': [1, 0], 'horrivel': [1, 0], 'nao': [1, 0], 'cansa': [1, 0], 'parecer': [1, 0], 'cada': [1, 0], 'versao': [1, 0], 'nova': [2, 0], 'mano,': [1, 0], 'basicamente': [1, 0], 'ios': [1, 0], 'nos': [0, 1], 'mostrou': [0, 1], 'seu': [0, 2], 'talento,': [0, 1], 'pessoa': [0, 1], 'orgulhosa': [0, 1], 'dessa': [0, 1], 'galáxia♡♡♡': [0, 1], '🔴': [0, 1], 'https://t.co/5vr82g4iwx': [0, 1], 'https://t.co/jecweaghzh': [1, 0], 'parece': [0, 4], 'imenso': [0, 1], 'tipo': [0, 2], 'sair': [0, 1], 'casa': [0, 2], 'segurando': [0, 1], 'fui': [0, 1], 'fazer': [0, 1], 'bottle': [0, 1], 'c': [0, 3], 'mão': [0, 2], 'toda': [0, 1], 'rosa': [0, 1], 'roxa': [0, 1], 'cheia': [0, 1], 'glitter,': [0, 1], 'meio': [0, 1], 'bosta': [0, 1], '@menosfios:': [0, 2], '[no': [0, 3], 'mf]': [0, 3], 's9': [0, 3], 'anunciado': [0, 3], 'janeiro': [0, 3], '2018': [0, 3], 'https://t.co/rgudmma2uc': [0, 3], 'https://t.co/1hqkezl5zd': [1, 0], 'oferta': [0, 1], 'online:': [0, 1], 'dual': [0, 2], 'chip': [0, 1], 'prata': [0, 1], '64gb,': [0, 1], 'tela': [1, 2], '5.8,': [0, 1], '7.0,': [0, 1], '4g,': [0, 2], 'câm': [0, 1], '12mp,': [0, 1], 'octa-core': [0, 1], 'https://t.co/g4cv7pizgf': [0, 1], '@amandalimaas': [0, 1], '@krlhmaria': [0, 2], 'aaaaaaaaaaa': [0, 1], '😂😂😂': [0, 1], 'vendo': [1, 4], 'gnt': [0, 2], 'quebrando': [0, 1], 'paredes': [0, 1], 'daqui': [0, 2], 'uns': [0, 2], 'dias': [0, 2], 'bixby': [2, 1], 'https://t.co/rvo1w0xq5y': [0, 1], '#notícias': [0, 1], '#tecnologia': [2, 2], 'https://t.co/m6vfgvzfvs': [0, 1], 'https://t.co/mwg4vranxtário': [0, 1], 'https://t.co/bfqt2ruq0i': [0, 1], 'mario': [0, 2], 'walkthrough': [0, 1], 'part': [0, 1], '19': [0, 1], 'supermassive': [0, 1], 'pro,': [1, 0], 'super': [1, 1], 'amoled': [1, 0], 'alta': [1, 0], 'definição': [1, 0], 'verdade.': [1, 0], 'https://t.co/ysabvj5zba': [1, 0], 'https://t.co/3ev4pxn5eqário': [0, 1], 'intermediário': [1, 1], 'câmeras': [1, 0], 'duplas\"': [1, 0], 'https://t.co/evt8ugrn7k': [1, 0], '#feedly': [2, 1], 'live': [0, 1], '#1:': [0, 2], 'https://t.co/rm68ehicl4': [0, 1], '@yangmi62': [0, 1], 'versão': [1, 1], '128gb,': [0, 1], 'amanda!': [0, 1], 'certeza': [0, 1], 'cabe': [0, 1], 'todos': [0, 1], 'os': [0, 1], 'seus': [0, 1], 'k-pop.': [0, 1], 'vem': [0, 4], 'saber': [0, 1], '👉': [0, 3], 'https://t.co/u7girhydgp': [0, 1], '53%off': [0, 1], 'prime': [0, 4], 'duos': [0, 1], 'dourado': [0, 1], '32gb,': [0, 1], '5.5´,': [0, 1], 'chip,': [0, 1], '13mp': [0, 1], 'r$': [0, 1], '967,12': [0, 1], 'https://t.co/ffuuls7cln': [0, 1], '[#trad]': [0, 1], 'kris': [0, 2], 'lol.': [0, 1], 'time': [0, 1], '\"galaxy\"🤣': [0, 1], 'user': [0, 1], 'usado': [0, 1], 'por…': [0, 1], 'https://t.co/mrtbcccs6w': [0, 1], 'https://t.co/ihxnt2nsoyário': [0, 1], 'boa': [0, 1], 'tarde': [0, 1], 'à': [0, 1], 'pessoa/unicórnio': [0, 1], 'mundo,ily💖🦄': [0, 1], '@sea3p0': [0, 2], 'https://t.co/avcghxxrqeário': [0, 1], 'mãe!': [0, 1], 'culpa': [0, 1], 'série': [0, 1], 'matar': [0, 1], 'personagem': [0, 1], 'favorito!!!!': [0, 1], 'já': [1, 3], 'continuo': [0, 1], 'gran': [0, 2], 'inazuma': [0, 1], 'eleven': [0, 1], 'go': [0, 1], 'cadenalocke!!!!': [0, 1], 'https://t.co/jqnegkj7qz': [0, 1], 'rir': [0, 1], 'né?': [0, 1], 'piores': [0, 1], 'experiências': [0, 1], 'celular': [3, 1], 'https://t.co/lsaikh7hob': [0, 1], 'ei,': [0, 1], 'edge,': [0, 1], 'passado': [0, 1], '01': [0, 1], 'ano,': [0, 1], 'apresenta': [0, 1], 'faixa': [0, 1], 'verde': [0, 1], 'lado': [0, 1], 'direito': [0, 1], 'ecrã.': [0, 1], 'devo': [0, 1], 'fazer?': [0, 1], 'https://t.co/ieu159ukqv': [1, 0], 'https://t.co/bcsjkddtn8': [1, 0], 'gta': [1, 0], 'san': [1, 0], 'andreas': [1, 0], 's8!': [1, 0], 'dúvida': [0, 1], 'compro': [1, 1], '@lahvalim': [1, 0], 'deu': [1, 0], 'olhada': [1, 2], 'nosso': [1, 0], '#galaxys8?': [1, 0], 'maravilhoso,': [1, 0], 'possui': [1, 0], 'monte': [1, 0], 'funções': [1, 0], 'bacanas:': [1, 0], 'https://t.co/hpjtezgqbv.': [1, 0], '💙': [1, 0], 'lançar': [0, 3], 'tudo': [0, 2], 'desde': [0, 2], 's7.': [0, 2], 'aparelho': [0, 2], 'só': [0, 3], 'vendido': [0, 2], 'status': [0, 1], 'marca.': [0, 1], 'cel': [0, 1], 'travado': [0, 1], 'funda': [0, 2], 'slim': [0, 1], 'armor': [0, 1], '3,': [0, 2], 'negra-blanca': [0, 1], 'https://t.co/qpektfoycz': [0, 1], 'https://t.co/nsixumu8ef': [0, 1], '@cleuberdacunha:': [1, 0], 'https://t.co/uk1hutobge': [2, 0], 'https://t.co/n0ipxkhwow': [2, 0], 'chega': [0, 1], '4gb': [0, 1], 'ram,': [0, 1], 'chipset': [0, 1], 'helio': [0, 1], 'p20': [0, 1], 'https://t.co/xybp2qzvwn': [0, 1], 'legal,': [0, 1], 'https://t.co/csqrefsmny': [0, 1], 'tava': [1, 2], 'mãe': [1, 2], 'ai': [1, 0], 'mostrei': [1, 0], 'ela': [1, 0], 'frente': [1, 0], 'moça': [1, 0], 'loja': [1, 0], '\"nesse': [1, 0], 'preço': [1, 0], 'família': [1, 0], 'toda\"': [1, 0], 'magazine': [0, 1], 'maravilha1000:': [0, 1], 'tablet': [0, 1], 'tab': [0, 1], '8gb': [0, 1], '7\"': [0, 1], 'wi-fi': [0, 1], '4.4': [0, 1], 'proc.': [0, 1], 'quad': [0, 1], 'core': [0, 1], 'integrada': [0, 1], 'https://t.co/ngdujc70ml': [0, 1], 'lindo': [1, 1], 'https://t.co/ql5r4otk19': [1, 0], 'linda': [0, 1], 'baeee💕faz': [0, 1], 'outro': [0, 1], 'meet,ilysm🌻': [0, 1], '@samsungbrasil': [1, 0], 'intenção': [1, 0], 'aproveitar': [1, 0], 'botão': [0, 1], 'virtual': [0, 1], 'tela.': [0, 1], 'copiaram': [0, 1], 'cara': [0, 3], 'dura': [0, 1], 's8+.': [0, 1], 'sempre': [0, 1], 'frente,': [0, 1], 'jeito!': [0, 1], 'pessoas': [0, 1], 'falando': [0, 1], 'tanto': [0, 1], 'desse': [0, 1], '6': [0, 1], ':': [0, 1], 'bem': [0, 2], 'j2': [0, 1], '^^': [0, 1], '\"vai': [0, 1], 'instalar?': [0, 1], 's6': [0, 2], 'ganham': [0, 1], 'sua': [0, 1], 'primeira': [0, 1], 'dose': [0, 1], 'oreo\"': [0, 1], 'https://t.co/iq7pswzmwr': [0, 1], '@vt_gabrielll': [0, 2], 'nossa': [0, 2], 'linha': [0, 2], 'j,': [0, 2], 'estamos': [0, 2], 'alguns': [0, 2], 'lançamentos!': [0, 2], 'https://t.co/7fixfwtxwi': [0, 2], 'kkkkkk': [1, 1], 'tiro': [0, 1], 'ft': [0, 1], 'zoom': [0, 1], 'ligado.': [0, 1], 'https://t.co/lfmept0qfh': [0, 1], 'seis': [0, 2], 'anos': [0, 2], 'evolução:': [0, 2], 'vs': [0, 4], 'https://t.co/jxsrtwwas6': [0, 1], 'https://t.co/m8yt9j2qs7': [0, 1], '@galaxy_boy28': [0, 1], 'fresita': [0, 1], 'templada': [0, 1], 'https://t.co/hjo2wb7jcr': [1, 0], 'https://t.co/oa98smk7tc': [1, 0], 'https://t.co/dntlv010xz': [0, 1], 'https://t.co/hh9oc9umbl': [0, 1], 'https://t.co/adxfgpaa7l': [1, 0], 'https://t.co/67eyjdufnf': [1, 0], 'rindo': [0, 1], 'nervoso': [0, 1], 'alguem': [0, 1], 'tão': [0, 1], 'tao': [0, 1], 'maravilhosa': [0, 1], 'angelical': [0, 1], 'aaaa': [0, 1], '#love_yourself…': [0, 1], 'https://t.co/caisxz8cbn': [0, 1], '@gabigoncalvess1:': [0, 1], 'https://t.co/ferohgcla9': [1, 0], 'bateria': [1, 0], 'mercado,': [1, 0], 'diz': [1, 0], 'pesquisa': [1, 0], 'https://t.co/zpsjyiochi': [1, 0], 'bts': [0, 1], 'fazendo': [0, 1], 'referências': [0, 1], 'ao': [0, 3], 'pequeno': [0, 2], 'príncipe': [0, 1], 'setembro': [0, 1], 'amarelo??': [0, 1], 'for': [0, 1], 'isso': [0, 1], 'explodir': [0, 1], 'felicidade': [0, 1], 'nome': [0, 1], 'disso': [0, 1], 'copiando,': [0, 1], 'jogo': [0, 1], 'virou': [0, 1], 'https://t.co/thn8ghccdt': [0, 1], 'actecom®': [0, 1], 'protector': [0, 1], 'pantalla': [0, 1], '2017': [0, 1], 'cristal': [0, 1], 'vidrio': [0, 1], 'templado': [0, 1], '#shopsmart': [0, 1], '#oferta': [0, 1], 'https://t.co/kuqzmgbm7t': [0, 1], 'promoção': [0, 2], 'black': [0, 1], 'piano': [0, 1], '128gb': [0, 1], 'r$2.069': [0, 1], 'r$2.351': [0, 1], '10x': [0, 2], 'https://t.co/1vp0hkpguc': [0, 1], '@lucasalesm12': [0, 1], 'troco': [0, 1], '4gb,': [0, 1], 'pega': [0, 1], 'whatsapp': [0, 1], 'wifi': [0, 1], ',': [0, 2], 'foninho': [0, 1], 'bora': [0, 1], 'mano': [0, 1], '@ricardorobalo1': [0, 1], 'passa': [0, 1], 'deixar': [0, 1], 'volte': [0, 1], 'so': [0, 2], 'dezembro': [0, 1], 'natal': [0, 1], '@ktaecute:': [0, 1], 'jimin:': [0, 1], '\"eu': [0, 1], 'preparei': [0, 1], 'muito': [1, 1], 'isso,': [0, 1], 'então': [0, 1], 'favor': [0, 1], 'apreciem.\"': [0, 1], 'armys:': [0, 1], 'https://t.co/msptab9lc8': [0, 1], 'https://t.co/tqo1vugxaoário': [0, 1], 'crítica': [0, 1], 'bso:': [0, 1], 'guardians': [0, 2], 'the': [0, 2], 'vol.2': [0, 1], 'tyler': [0, 1], 'bates': [0, 1], 'https://t.co/jntyleu0q4': [0, 1], 'https://t.co/u25iuqon2g': [1, 0], '@aianbrado:': [0, 1], 'pelo…': [0, 1], 'miix': [0, 1], '520': [0, 1], 'book': [0, 1], '12:': [0, 1], 'comparativa': [0, 1], 'https://t.co/a4qum9jqvw': [0, 1], 'https://t.co/31njzkibxp': [0, 1], '@chrisbooy_': [1, 0], 'seco': [1, 0], 'gato': [1, 0], 'demais.': [1, 0], 'https://t.co/0mqicwwpr2ário': [0, 1], 'vontade': [1, 0], 'buscar': [0, 1], 'pocket,': [0, 1], 'finalmente': [0, 1], 'poder': [0, 1], 'https://t.co/ghec47s5do': [0, 1], '@tudo_celular': [0, 1], '@renatababado': [0, 1], 'usando': [0, 1], '@zbg_galaxy': [0, 1], '@sadcici': [0, 1], '@koreandaughter': [0, 1], 'angelo': [0, 1], 'taver': [0, 1], 'https://t.co/be8doyv2jg': [0, 1], 'unidades': [1, 0], '-&gt;': [1, 0], 'https://t.co/kdu8wwd1qd': [1, 0], '#smartphones': [1, 0], 'https://t.co/vpfztqidjp': [1, 0], 'https://t.co/0n1958ygvc': [0, 1], 'remover': [0, 1], 'senha': [0, 1], 'gt': [0, 1], 's5360b': [0, 1], '(': [0, 1], 'hard': [0, 1], 'reset': [1, 1], ')': [0, 1], '!!!': [0, 1], 'amarrado': [0, 1], 'https://t.co/tg9505vmwe': [1, 0], 'https://t.co/tffyxozvyw': [1, 0], 'legal': [1, 0], 'https://t.co/oudjjgqhjn': [1, 0], 'unicornia': [0, 1], 'sempre♡': [0, 1], 'https://t.co/mcqfguiqsf': [0, 1], 'netflix\"': [1, 0], 'https://t.co/piadcf9mfj': [1, 0], '@antnrciro': [0, 1], 'iludi': [0, 1], 'galaxy,': [0, 1], 'sofri.': [0, 1], 'https://t.co/dbfe6alw1l': [1, 0], 'https://t.co/snn4pvxibe': [1, 0], 'devia': [0, 1], 'estar': [0, 2], 'estudando': [0, 1], 'trabalho': [0, 1], 'português': [0, 1], 'amanhã': [0, 1], 'ecoando': [0, 1], 'cabeça,': [0, 1], 'consigo': [0, 1], 'concentrar': [0, 1], 'https://t.co/z8jyn8mjueário': [0, 1], 'https://t.co/hswjwrdikh': [1, 0], 'https://t.co/9xdutyaybc': [1, 0], '#marketingonline': [1, 0], '@eagletechz:': [0, 1], 'capa': [0, 1], 's4,': [0, 1], 'view,': [0, 1], 'ideal': [0, 1], 'perfeita': [0, 1], 'proteção': [0, 1], 's4,http://t.co/jsd3sb7tkd': [0, 1], '#capaga…': [0, 1], 'flagship!': [0, 1], 'q6': [0, 1], 'enfrenta': [0, 1], 'teste': [0, 1], 'velocidade': [0, 1], 'https://t.co/voe0r6tta1': [0, 1], 'https://t.co/uxoqi6f9h3': [0, 1], 'descubre': [0, 1], 'carcasa': [0, 1], 'a3': [0, 2], '2016,': [0, 2], 'ja...': [0, 1], 'jawseu': [0, 1], 'https://t.co/l9d40h3tf5': [0, 1], 'vía': [0, 1], '@': [0, 1], 'bom': [1, 0], 'maluco': [1, 0], 'idêntico': [0, 1], 'https://t.co/uxjtjpgs3p': [0, 1], 'https://t.co/0htukw4h86': [1, 0], '#umrei': [1, 0], '#timbeta': [1, 0], '#rt': [1, 0], '#sdv': [1, 0], '#missaobeta': [1, 0], '#betaajuda…': [1, 0], 'ontem': [0, 1], 'twd': [0, 1], 'chorando,': [0, 1], 'entrou': [0, 1], 'quarto,e': [0, 1], 'pediu': [0, 1], 'desligar': [0, 1], 'pq': [0, 1], 'aqlo': [0, 1], 'estragando': [0, 1], 'psicológico': [0, 1], ':v': [0, 1], 'https://t.co/jhiw3s2j0nário': [0, 1], '@cellbit': [1, 0], 'maravilhoso': [1, 0], 'caralho': [1, 0], '@itssh4dow': [0, 1], 'olá,': [0, 2], 'processo': [0, 1], 'libertação': [0, 1], 'upgrade': [0, 1], 'curso,': [0, 1], 'disponível': [0, 1], 'a5': [0, 1], '2017.': [0, 1], 'obrigado.': [0, 1], 'preto': [0, 1], 'r$1.619': [0, 1], 'r$1.799': [0, 1], 'https://t.co/j8ilxmimlp': [0, 1], 'nego': [1, 0], 'matando': [1, 0], '8,': [1, 0], 'lhes': [1, 0], 'apresento': [1, 0], 'deus': [1, 0], 'supremo': [1, 0], 'smartphone.': [1, 0], 'https://t.co/hczp7z10le': [1, 0], '@franfrancorrea1:': [0, 1], 'aquecendo': [0, 1], 'risco': [0, 1], 'explosão': [0, 1], 'empresa': [0, 1], 'nega': [0, 1], 'ajudar!': [0, 1], '#samsung': [0, 1], '#samsungs7': [0, 1], 'https://t.co/rmojsnmbmx': [0, 1], '@neverland1911:': [0, 1], '\"então,': [0, 1], 'sinto': [0, 1], 'feliz.': [0, 1], 'estrelas': [0, 1], 'riem': [0, 1], 'docemente.\"': [0, 1], 'príncipe.': [0, 1], 'https://t.co/q5pmg6b1…': [0, 1], 'https://t.co/y5qglfoqi5': [0, 1], 'trailers': [0, 1], 'oh': [0, 1], 'my': [0, 1], 'emilly': [0, 1], 'te': [0, 1], 'bater': [0, 1], 'namoral': [0, 1], 'https://t.co/wabojbf4zy': [0, 1], '@uomanizer': [0, 1], 'https://t.co/sv3xru1wos': [0, 1], 'criou': [0, 1], 'antes,': [0, 1], 'copiou': [0, 1], 'https://t.co/bnj47oblb0': [1, 0], '@saraxcunha': [0, 1], 'dispomos': [0, 1], 'informação': [0, 1], '2016': [0, 1], 'receber': [0, 1], 'update': [0, 1], 'so.': [0, 1], 'existirem': [0, 1], 'partilhamos': [0, 1], 'https://t.co/sv3dzbf5c5': [1, 0], 'https://t.co/cg6bzmlfcn': [1, 0], 'depois': [1, 0], 'três': [1, 0], 'meses': [1, 0], 'uso': [1, 0], '@mad_thamiires': [0, 1], 'miga,': [0, 1], 'https://t.co/vdgcu5nto5': [1, 0], 'j1': [1, 0], 'mini,': [1, 0], 'j105,': [1, 0], 'j105m,': [1, 0], 'j105b,': [1, 0], 'j105f,': [1, 0], 'j105h,': [1, 0], 'j105y,': [1, 0]}\n",
      "1063\n"
     ]
    }
   ],
   "source": [
    "base_teste = Teste.Teste\n",
    "clas = Teste.classificação\n",
    "dict_pal = dict()\n",
    "for x in range (0, len(base_teste)):\n",
    "    situação = clas[x]\n",
    "    twt = base_teste[x].split()\n",
    "    for palavras in twt:\n",
    "        if palavras in dict_pal:\n",
    "            if situação == \"b\":\n",
    "                dict_pal[palavras][0] += 1\n",
    "            else:\n",
    "                dict_pal[palavras][1] += 1\n",
    "        else:\n",
    "            if situação == \"b\":\n",
    "                dict_pal[palavras] = [1,0] # Primeiro item da chave é a quantas vezes essa palavra é boa \n",
    "            else:\n",
    "                dict_pal[palavras] = [0,1] # 2 ITEM DA CHAVE  vezes que a palavra ruim\n",
    "print(dict_pal)\n",
    "print(len(dict_pal))"
   ]
  },
  {
   "cell_type": "code",
   "execution_count": 37,
   "metadata": {
    "collapsed": false,
    "scrolled": true
   },
   "outputs": [
    {
     "name": "stdout",
     "output_type": "stream",
     "text": [
      "{'https://t.co/gd04txgt2k': 1, 'netflix': 12, 'agora': 12, 'dá': 11, 'suporte': 13, 'a': 37, 'filmes': 10, 'e': 61, 'séries': 10, 'em': 35, 'hdr': 13, 'no': 36, 'galaxy': 158, 'note': 33, '8': 37, 'https://t.co/qwmbqz9xu7': 1, 'gente': 1, 'me': 12, 'ajuda': 1, 'vale': 1, 'pena': 1, 'trocar': 2, 'um': 57, 'j7': 15, 'por': 6, 'iphone': 25, '6plus': 1, 'ou': 7, 'o': 53, '7': 12, '?': 6, 'help': 1, 'https://t.co/eiiwcu8cxv': 1, 'breve': 2, 'brasil!': 1, 'vivo': 1, 'começa': 1, 'aceitar': 1, 'registro': 1, 'para': 9, 'pré-venda': 1, 'do': 45, 'https://t.co/8egkzrrb6j': 1, 'gostei': 27, 'de': 74, 'vídeo': 27, '@youtube': 31, 'https://t.co/xxgbtorazx': 1, 'está': 6, 'aqui!': 4, 'rt': 46, '@olhardigital:': 1, 'plus': 16, 'é': 29, 'oficializado': 9, 'com': 34, 'câmera': 11, 'dupla': 9, 'assistente': 9, 'bixby:': 6, 'https://t.co/vruknvazsp': 2, 'https://t.co/xvt6ysfpst': 2, '8?': 2, 'tô': 5, 'fora.': 1, 'pego': 3, 'meu': 12, 'vou': 8, 'embora.': 1, 'https://t.co/xdycpbusug': 1, 'lg': 2, 'v30': 1, 'x': 1, 's8:': 1, 'qual': 2, 'melhor': 7, 'fotos': 1, 'noturnas?': 1, 'eis': 1, 'aqui': 1, '...': 1, 'https://t.co/ybqkhl1aap': 1, 'https://t.co/sutmpgdtgk': 1, '@ironmaknae:': 1, 'okay,': 1, 'letra': 1, 'serendipity': 2, 'romântica,': 1, 'mas': 5, 'será': 2, 'que': 21, 'podiam': 1, 'tentar': 1, 'ver': 1, 'além': 2, 'dela': 1, 'parar': 1, 'dizer': 1, 'sobre': 3, 'encontrar': 1, 'a…': 1, 'vendendo': 1, 'j5': 5, 'novinho': 1, '350': 1, 'reais': 1, 'gentr': 1, 'comprem': 1, 'amo': 1, 'vcs': 1, 'https://t.co/bjzyuag4qi': 1, '[unboxing]': 2, '@galaxy_draw': 1, 'brasileiro': 1, 'n': 3, 'domina': 1, 'mundo': 2, 'porque': 2, 'quer': 1, 'preguiça': 1, 'mesmo': 4, '@carlos22alts:': 11, 'sorteo': 11, 'express': 11, '📱samsun': 11, 'galaxy!': 11, 'req:': 11, 'seguirme': 11, '@carlos22alts': 11, 'dar': 13, 'rt🔁': 11, '30': 11, 'minutos': 11, '🔚': 11, '@macaulincrack:': 6, 'quem': 8, 'rosto': 6, 'limpo': 6, 'fala': 6, 'segredo': 6, 'pra': 15, 'ter': 10, 'asssim': 6, 'compra': 6, 'samsung': 30, 'q': 9, 'kkkkkkkkkkkkkkkkkkkk': 6, 'kjsalsdl…': 6, '@to9etherwithyou:': 1, 'colorrrrrrrrrr': 1, 'https://t.co/y4fejz0idm': 1, '@samsungbrasil:': 5, 'flash': 2, 'frontal,': 2, 'design': 2, 'metal': 3, 'mais': 27, 'memória.': 2, 'j': 2, 'você': 4, 'completo.': 2, 'https://t.co/md4adzptxk': 2, 'https…': 2, 'to': 11, 'doido': 1, 'pelo': 3, 's8': 15, 'sendo': 1, 'atualizado': 1, 'android': 5, '7.0': 1, 'nougat': 1, 'https://t.co/n8sv0ik4nw': 1, 'https://t.co/a2tktnmo65': 1, 'https://t.co/zwcg6pdejv': 1, 'gaming': 1, 'review!': 1, '(4k)': 1, 'eu': 24, 'pasma.': 1, 'cérebro': 1, 'não': 4, 'consegue': 1, 'raciocinar': 1, 'voz': 3, 'jimin': 4, 'ta': 8, 'loop': 1, 'na': 20, 'minha': 6, 'cabeça': 1, '#serendipity': 4, '@techtudo:': 1, 'como': 5, 'plano': 1, 'fundo': 1, 'https://t.co/slh35ugwhx': 1, 'https://t.co/22thprkgdb': 1, 'nem': 3, 'tenho': 6, 'dinheiro': 1, 'comprar': 4, 'y': 2, 'quanto': 1, 'pro': 3, 'fora': 2, 'orçamento😂😂': 1, 'https://t.co/zwpajhxubi': 1, '@_fivestarz': 1, 'migo,': 1, 'pode': 6, 'entrar': 2, 'nesse': 2, 'link': 2, '\"other': 2, 'phone\"': 2, 'colocar': 2, '\"galaxy': 4, 's8+\"': 2, 'favor???': 2, '😢😢😢': 2, 'https://t.co/ulbx4yi9fx': 2, 'fe': 6, 'tem': 13, 'vendas': 5, 'esgotadas': 6, 'coreia': 6, 'sul': 6, 'https://t.co/ndbon36wum': 1, 'https://t.co/8y1stodd1x': 1, 's7': 5, 'edge': 3, 'azul': 1, 'edição': 1, 'limitada': 1, 'comprado': 1, 'dia': 1, '17/05/2017': 1, 'estado': 1, 'zero…': 1, 'https://t.co/zomitue0fz': 1, 'pocket': 10, 'https://t.co/almcbb8h1b': 1, '[#info]': 1, '030917': 2, '|': 2, 'equipa': 1, '#kriswu,': 1, 'evento': 2, '6º': 2, 'aniversário': 3, 'lol,': 1, 'foi': 4, 'nomeado': 2, '\"galaxy\".': 1, 'https://t.co/yuibnoax1a': 1, 'https://t.co/agpizkurbc': 1, 'da': 7, 'última': 1, 'vez': 2, 'hobi': 1, 'ficou': 3, 'responsável': 1, 'pela': 2, 'intro': 1, 'ele': 4, 'bastante': 1, 'ansioso': 1, 'reação': 1, 'das': 1, 'fãs': 1, 'agr': 1, 'imagina': 1, 'deve': 1, 'ainda': 4, 'https://t.co/rknhjucywd': 1, '@tec_mundo:': 1, 'google,': 12, 'windows': 12, 'mobile,': 12, 'j7+': 12, 'hoje': 12, 'tecmundo:': 2, 'https://t.co/qffpjphteo': 1, 'via': 6, 'https://t.co/o1rkf68hlv🔴': 1, 'servidor': 4, 'kitpvp': 3, '‹': 3, '›': 3, '8:': 1, 'mandou': 1, 'abraço.': 1, 'https://t.co/tecoxshziyário': 1, 'tecmundo': 10, 'https://t.co/g2bxvr2kyj': 1, 'primeiro': 4, 'smartphone': 6, 'https://t.co/04n9etflim': 1, 'apple': 3, 'vai': 11, 'aguentar': 1, 'essa': 1, 'pressão?': 1, 'https://t.co/5brtfkkfvv': 1, '@imlouuh': 1, '84': 1, ';-!': 1, '@raaelzao': 1, 'eu,': 1, 'https://t.co/ubtdly37x2': 1, 'https://t.co/msuyt1xn9j': 1, 'rom': 2, 'original': 1, 'fábrica': 1, 'stock': 1, 'l': 1, 'j500m': 1, '(downgrade': 1, '5.1)': 1, '@null': 1, 'noteii': 1, \"they're\": 1, 'coming!': 1, 'tá': 4, 'siad': 1, 'ag': 1, 'teacht!': 1, 'https://t.co/ujz8b0us72': 1, 'tec_mundo': 1, '\"aniversário': 1, 'https://t.co/spybf50ocz': 1, 'youtube\"': 1, '@vmariespindola:': 1, '\"meus': 1, 'filhos': 1, 'estudaram': 1, 'cp2': 1, 'mimimi': 2, 'moro': 1, 'barra': 1, '8\"': 1, 'https://t.co/nywbhmh8qd': 1, 'https://t.co/wlx1r77wo0': 1, '@macmagazine:': 3, 'vídeo:': 3, 'comparativo': 5, 'câmeras,': 3, 'note8': 3, 'ganha': 3, 'sobra': 3, 'https://t.co/gnvia5dxr6': 3, 'https://t.co/n3nfw…': 3, 'https://t.co/xxn0fot1tt': 1, 'of': 3, 'undergoing': 1, 'ram': 1, 'pressure': 1, 'stripping': 1, 'quero': 2, 's8.': 2, 'bonito': 1, 'porra,': 1, '@samsungbrasil.': 2, 'meus': 1, 'parabéns.': 1, '@5gu': 1, 'sou': 1, 'feia': 1, 's': 2, '@servidoressky:': 1, '💫': 1, 'factions': 1, 'lançado': 1, 'oficialmente': 1, 'beta': 1, 'vip!': 1, 'veja': 1, 'todas': 2, 'as': 3, 'novidades': 2, 'esse': 3, 'acessando': 1, 'https://t.co/p…': 1, '@hoseokkysmile:': 1, 'impressionante': 1, 'próprio': 2, 'park': 2, 'conseguiu': 1, 'acalmar': 1, 'quando': 2, 'estava': 1, 'surtando': 1, 'm…': 1, '@whostaehyungz:': 1, 'puta': 1, 'pariu': 1, 'ninguém': 1, 'aguenta': 1, 'essas': 1, 'brigas': 1, 'exol': 1, 'army': 1, 'vão': 1, 'todo': 1, 'se': 8, 'foder': 1, 'porra': 2, 'olhardigital:': 1, 'https://t.co/n0rcpnsg78': 1, 'https://t.co/wunknopgns': 1, 'alguém': 2, 'aí': 1, 'conhece': 1, 's8?': 1, '5.000': 1, 'fora,': 1, 'embora': 2, '@starlordnt:': 1, 'ser': 10, 'uma': 12, 'cópia': 2, 's8,': 4, 'surpresa?': 2, 'pouco': 3, 'https://t.co/zwywfqszh4🔴': 1, 'https://t.co/2l5lmqjppdário': 1, 'tv': 3, 'hd': 1, 'curte': 2, 'ficar': 1, 'ligado': 1, 'qualquer': 2, 'lugar.': 1, 'conheça': 1, 'neo:': 1, 'https://t.co/q9mcssu9tt': 1, 'https://t.co/…': 1, '@cauanzin45:': 1, 'dos': 2, '2': 3, 'desafio': 1, 'fantártico?': 1, 'https://t.co/9pjm2p8tte': 1, 'https://t.co/82oqilo73r': 1, 'horrivel': 1, 'nao': 1, 'cansa': 1, 'parecer': 1, 'cada': 1, 'versao': 1, 'nova': 2, 'mano,': 1, 'basicamente': 1, 'ios': 1, 'nos': 1, 'mostrou': 1, 'seu': 2, 'talento,': 1, 'pessoa': 1, 'orgulhosa': 1, 'dessa': 1, 'galáxia♡♡♡': 1, '🔴': 1, 'https://t.co/5vr82g4iwx': 1, 'https://t.co/jecweaghzh': 1, 'parece': 4, 'imenso': 1, 'tipo': 2, 'sair': 1, 'casa': 2, 'segurando': 1, 'fui': 1, 'fazer': 1, 'bottle': 1, 'c': 3, 'mão': 2, 'toda': 1, 'rosa': 1, 'roxa': 1, 'cheia': 1, 'glitter,': 1, 'meio': 1, 'bosta': 1, '@menosfios:': 2, '[no': 3, 'mf]': 3, 's9': 3, 'anunciado': 3, 'janeiro': 3, '2018': 3, 'https://t.co/rgudmma2uc': 3, 'https://t.co/1hqkezl5zd': 1, 'oferta': 1, 'online:': 1, 'dual': 2, 'chip': 1, 'prata': 1, '64gb,': 1, 'tela': 3, '5.8,': 1, '7.0,': 1, '4g,': 2, 'câm': 1, '12mp,': 1, 'octa-core': 1, 'https://t.co/g4cv7pizgf': 1, '@amandalimaas': 1, '@krlhmaria': 2, 'aaaaaaaaaaa': 1, '😂😂😂': 1, 'vendo': 5, 'gnt': 2, 'quebrando': 1, 'paredes': 1, 'daqui': 2, 'uns': 2, 'dias': 2, 'bixby': 3, 'https://t.co/rvo1w0xq5y': 1, '#notícias': 1, '#tecnologia': 4, 'https://t.co/m6vfgvzfvs': 1, 'https://t.co/mwg4vranxtário': 1, 'https://t.co/bfqt2ruq0i': 1, 'mario': 2, 'walkthrough': 1, 'part': 1, '19': 1, 'supermassive': 1, 'pro,': 1, 'super': 2, 'amoled': 1, 'alta': 1, 'definição': 1, 'verdade.': 1, 'https://t.co/ysabvj5zba': 1, 'https://t.co/3ev4pxn5eqário': 1, 'intermediário': 2, 'câmeras': 1, 'duplas\"': 1, 'https://t.co/evt8ugrn7k': 1, '#feedly': 3, 'live': 1, '#1:': 2, 'https://t.co/rm68ehicl4': 1, '@yangmi62': 1, 'versão': 2, '128gb,': 1, 'amanda!': 1, 'certeza': 1, 'cabe': 1, 'todos': 1, 'os': 1, 'seus': 1, 'k-pop.': 1, 'vem': 4, 'saber': 1, '👉': 3, 'https://t.co/u7girhydgp': 1, '53%off': 1, 'prime': 4, 'duos': 1, 'dourado': 1, '32gb,': 1, '5.5´,': 1, 'chip,': 1, '13mp': 1, 'r$': 1, '967,12': 1, 'https://t.co/ffuuls7cln': 1, '[#trad]': 1, 'kris': 2, 'lol.': 1, 'time': 1, '\"galaxy\"🤣': 1, 'user': 1, 'usado': 1, 'por…': 1, 'https://t.co/mrtbcccs6w': 1, 'https://t.co/ihxnt2nsoyário': 1, 'boa': 1, 'tarde': 1, 'à': 1, 'pessoa/unicórnio': 1, 'mundo,ily💖🦄': 1, '@sea3p0': 2, 'https://t.co/avcghxxrqeário': 1, 'mãe!': 1, 'culpa': 1, 'série': 1, 'matar': 1, 'personagem': 1, 'favorito!!!!': 1, 'já': 4, 'continuo': 1, 'gran': 2, 'inazuma': 1, 'eleven': 1, 'go': 1, 'cadenalocke!!!!': 1, 'https://t.co/jqnegkj7qz': 1, 'rir': 1, 'né?': 1, 'piores': 1, 'experiências': 1, 'celular': 4, 'https://t.co/lsaikh7hob': 1, 'ei,': 1, 'edge,': 1, 'passado': 1, '01': 1, 'ano,': 1, 'apresenta': 1, 'faixa': 1, 'verde': 1, 'lado': 1, 'direito': 1, 'ecrã.': 1, 'devo': 1, 'fazer?': 1, 'https://t.co/ieu159ukqv': 1, 'https://t.co/bcsjkddtn8': 1, 'gta': 1, 'san': 1, 'andreas': 1, 's8!': 1, 'dúvida': 1, 'compro': 2, '@lahvalim': 1, 'deu': 1, 'olhada': 3, 'nosso': 1, '#galaxys8?': 1, 'maravilhoso,': 1, 'possui': 1, 'monte': 1, 'funções': 1, 'bacanas:': 1, 'https://t.co/hpjtezgqbv.': 1, '💙': 1, 'lançar': 3, 'tudo': 2, 'desde': 2, 's7.': 2, 'aparelho': 2, 'só': 3, 'vendido': 2, 'status': 1, 'marca.': 1, 'cel': 1, 'travado': 1, 'funda': 2, 'slim': 1, 'armor': 1, '3,': 2, 'negra-blanca': 1, 'https://t.co/qpektfoycz': 1, 'https://t.co/nsixumu8ef': 1, '@cleuberdacunha:': 1, 'https://t.co/uk1hutobge': 2, 'https://t.co/n0ipxkhwow': 2, 'chega': 1, '4gb': 1, 'ram,': 1, 'chipset': 1, 'helio': 1, 'p20': 1, 'https://t.co/xybp2qzvwn': 1, 'legal,': 1, 'https://t.co/csqrefsmny': 1, 'tava': 3, 'mãe': 3, 'ai': 1, 'mostrei': 1, 'ela': 1, 'frente': 1, 'moça': 1, 'loja': 1, '\"nesse': 1, 'preço': 1, 'família': 1, 'toda\"': 1, 'magazine': 1, 'maravilha1000:': 1, 'tablet': 1, 'tab': 1, '8gb': 1, '7\"': 1, 'wi-fi': 1, '4.4': 1, 'proc.': 1, 'quad': 1, 'core': 1, 'integrada': 1, 'https://t.co/ngdujc70ml': 1, 'lindo': 2, 'https://t.co/ql5r4otk19': 1, 'linda': 1, 'baeee💕faz': 1, 'outro': 1, 'meet,ilysm🌻': 1, '@samsungbrasil': 1, 'intenção': 1, 'aproveitar': 1, 'botão': 1, 'virtual': 1, 'tela.': 1, 'copiaram': 1, 'cara': 3, 'dura': 1, 's8+.': 1, 'sempre': 1, 'frente,': 1, 'jeito!': 1, 'pessoas': 1, 'falando': 1, 'tanto': 1, 'desse': 1, '6': 1, ':': 1, 'bem': 2, 'j2': 1, '^^': 1, '\"vai': 1, 'instalar?': 1, 's6': 2, 'ganham': 1, 'sua': 1, 'primeira': 1, 'dose': 1, 'oreo\"': 1, 'https://t.co/iq7pswzmwr': 1, '@vt_gabrielll': 2, 'nossa': 2, 'linha': 2, 'j,': 2, 'estamos': 2, 'alguns': 2, 'lançamentos!': 2, 'https://t.co/7fixfwtxwi': 2, 'kkkkkk': 2, 'tiro': 1, 'ft': 1, 'zoom': 1, 'ligado.': 1, 'https://t.co/lfmept0qfh': 1, 'seis': 2, 'anos': 2, 'evolução:': 2, 'vs': 4, 'https://t.co/jxsrtwwas6': 1, 'https://t.co/m8yt9j2qs7': 1, '@galaxy_boy28': 1, 'fresita': 1, 'templada': 1, 'https://t.co/hjo2wb7jcr': 1, 'https://t.co/oa98smk7tc': 1, 'https://t.co/dntlv010xz': 1, 'https://t.co/hh9oc9umbl': 1, 'https://t.co/adxfgpaa7l': 1, 'https://t.co/67eyjdufnf': 1, 'rindo': 1, 'nervoso': 1, 'alguem': 1, 'tão': 1, 'tao': 1, 'maravilhosa': 1, 'angelical': 1, 'aaaa': 1, '#love_yourself…': 1, 'https://t.co/caisxz8cbn': 1, '@gabigoncalvess1:': 1, 'https://t.co/ferohgcla9': 1, 'bateria': 1, 'mercado,': 1, 'diz': 1, 'pesquisa': 1, 'https://t.co/zpsjyiochi': 1, 'bts': 1, 'fazendo': 1, 'referências': 1, 'ao': 3, 'pequeno': 2, 'príncipe': 1, 'setembro': 1, 'amarelo??': 1, 'for': 1, 'isso': 1, 'explodir': 1, 'felicidade': 1, 'nome': 1, 'disso': 1, 'copiando,': 1, 'jogo': 1, 'virou': 1, 'https://t.co/thn8ghccdt': 1, 'actecom®': 1, 'protector': 1, 'pantalla': 1, '2017': 1, 'cristal': 1, 'vidrio': 1, 'templado': 1, '#shopsmart': 1, '#oferta': 1, 'https://t.co/kuqzmgbm7t': 1, 'promoção': 2, 'black': 1, 'piano': 1, '128gb': 1, 'r$2.069': 1, 'r$2.351': 1, '10x': 2, 'https://t.co/1vp0hkpguc': 1, '@lucasalesm12': 1, 'troco': 1, '4gb,': 1, 'pega': 1, 'whatsapp': 1, 'wifi': 1, 'foninho': 1, 'bora': 1, 'mano': 1, '@ricardorobalo1': 1, 'passa': 1, 'deixar': 1, 'volte': 1, 'so': 2, 'dezembro': 1, 'natal': 1, '@ktaecute:': 1, 'jimin:': 1, '\"eu': 1, 'preparei': 1, 'muito': 2, 'isso,': 1, 'então': 1, 'favor': 1, 'apreciem.\"': 1, 'armys:': 1, 'https://t.co/msptab9lc8': 1, 'https://t.co/tqo1vugxaoário': 1, 'crítica': 1, 'bso:': 1, 'guardians': 2, 'the': 2, 'vol.2': 1, 'tyler': 1, 'bates': 1, 'https://t.co/jntyleu0q4': 1, 'https://t.co/u25iuqon2g': 1, '@aianbrado:': 1, 'pelo…': 1, 'miix': 1, '520': 1, 'book': 1, '12:': 1, 'comparativa': 1, 'https://t.co/a4qum9jqvw': 1, 'https://t.co/31njzkibxp': 1, '@chrisbooy_': 1, 'seco': 1, 'gato': 1, 'demais.': 1, 'https://t.co/0mqicwwpr2ário': 1, 'vontade': 1, 'buscar': 1, 'pocket,': 1, 'finalmente': 1, 'poder': 1, 'https://t.co/ghec47s5do': 1, '@tudo_celular': 1, '@renatababado': 1, 'usando': 1, '@zbg_galaxy': 1, '@sadcici': 1, '@koreandaughter': 1, 'angelo': 1, 'taver': 1, 'https://t.co/be8doyv2jg': 1, 'unidades': 1, '-&gt;': 1, 'https://t.co/kdu8wwd1qd': 1, '#smartphones': 1, 'https://t.co/vpfztqidjp': 1, 'https://t.co/0n1958ygvc': 1, 'remover': 1, 'senha': 1, 'gt': 1, 's5360b': 1, '(': 1, 'hard': 1, 'reset': 2, ')': 1, '!!!': 1, 'amarrado': 1, 'https://t.co/tg9505vmwe': 1, 'https://t.co/tffyxozvyw': 1, 'legal': 1, 'https://t.co/oudjjgqhjn': 1, 'unicornia': 1, 'sempre♡': 1, 'https://t.co/mcqfguiqsf': 1, 'netflix\"': 1, 'https://t.co/piadcf9mfj': 1, '@antnrciro': 1, 'iludi': 1, 'galaxy,': 1, 'sofri.': 1, 'https://t.co/dbfe6alw1l': 1, 'https://t.co/snn4pvxibe': 1, 'devia': 1, 'estar': 2, 'estudando': 1, 'trabalho': 1, 'português': 1, 'amanhã': 1, 'ecoando': 1, 'cabeça,': 1, 'consigo': 1, 'concentrar': 1, 'https://t.co/z8jyn8mjueário': 1, 'https://t.co/hswjwrdikh': 1, 'https://t.co/9xdutyaybc': 1, '#marketingonline': 1, '@eagletechz:': 1, 'capa': 1, 's4,': 1, 'view,': 1, 'ideal': 1, 'perfeita': 1, 'proteção': 1, 's4,http://t.co/jsd3sb7tkd': 1, '#capaga…': 1, 'flagship!': 1, 'q6': 1, 'enfrenta': 1, 'teste': 1, 'velocidade': 1, 'https://t.co/voe0r6tta1': 1, 'https://t.co/uxoqi6f9h3': 1, 'descubre': 1, 'carcasa': 1, 'a3': 2, '2016,': 2, 'ja...': 1, 'jawseu': 1, 'https://t.co/l9d40h3tf5': 1, 'vía': 1, '@': 1, 'bom': 1, 'maluco': 1, 'idêntico': 1, 'https://t.co/uxjtjpgs3p': 1, 'https://t.co/0htukw4h86': 1, '#umrei': 1, '#timbeta': 1, '#rt': 1, '#sdv': 1, '#missaobeta': 1, '#betaajuda…': 1, 'ontem': 1, 'twd': 1, 'chorando,': 1, 'entrou': 1, 'quarto,e': 1, 'pediu': 1, 'desligar': 1, 'pq': 1, 'aqlo': 1, 'estragando': 1, 'psicológico': 1, ':v': 1, 'https://t.co/jhiw3s2j0nário': 1, '@cellbit': 1, 'maravilhoso': 1, 'caralho': 1, '@itssh4dow': 1, 'olá,': 2, 'processo': 1, 'libertação': 1, 'upgrade': 1, 'curso,': 1, 'disponível': 1, 'a5': 1, '2017.': 1, 'obrigado.': 1, 'preto': 1, 'r$1.619': 1, 'r$1.799': 1, 'https://t.co/j8ilxmimlp': 1, 'nego': 1, 'matando': 1, '8,': 1, 'lhes': 1, 'apresento': 1, 'deus': 1, 'supremo': 1, 'smartphone.': 1, 'https://t.co/hczp7z10le': 1, '@franfrancorrea1:': 1, 'aquecendo': 1, 'risco': 1, 'explosão': 1, 'empresa': 1, 'nega': 1, 'ajudar!': 1, '#samsung': 1, '#samsungs7': 1, 'https://t.co/rmojsnmbmx': 1, '@neverland1911:': 1, '\"então,': 1, 'sinto': 1, 'feliz.': 1, 'estrelas': 1, 'riem': 1, 'docemente.\"': 1, 'príncipe.': 1, 'https://t.co/q5pmg6b1…': 1, 'https://t.co/y5qglfoqi5': 1, 'trailers': 1, 'oh': 1, 'my': 1, 'emilly': 1, 'te': 1, 'bater': 1, 'namoral': 1, 'https://t.co/wabojbf4zy': 1, '@uomanizer': 1, 'https://t.co/sv3xru1wos': 1, 'criou': 1, 'antes,': 1, 'copiou': 1, 'https://t.co/bnj47oblb0': 1, '@saraxcunha': 1, 'dispomos': 1, 'informação': 1, '2016': 1, 'receber': 1, 'update': 1, 'so.': 1, 'existirem': 1, 'partilhamos': 1, 'https://t.co/sv3dzbf5c5': 1, 'https://t.co/cg6bzmlfcn': 1, 'depois': 1, 'três': 1, 'meses': 1, 'uso': 1, '@mad_thamiires': 1, 'miga,': 1, 'https://t.co/vdgcu5nto5': 1, 'j1': 1, 'mini,': 1, 'j105,': 1, 'j105m,': 1, 'j105b,': 1, 'j105f,': 1, 'j105h,': 1, 'j105y,': 1}\n"
     ]
    }
   ],
   "source": [
    "dic_palavras = {}\n",
    "for words in Teste_palavras:\n",
    "    if words in dic_palavras:\n",
    "        dic_palavras[words] += 1\n",
    "    else:\n",
    "        dic_palavras[words] = 1\n",
    "print(dic_palavras)"
   ]
  },
  {
   "cell_type": "markdown",
   "metadata": {},
   "source": [
    "___\n",
    "## Verificando a performance\n",
    "\n",
    "Agora você deve testar o seu Classificador com a base de Testes.<br /><br /> \n",
    "\n",
    "Você deve extrair as seguintes medidas:\n",
    "* Porcentagem de positivos falsos (marcados como relevante mas não são relevantes)\n",
    "* Porcentagem de positivos verdadeiros (marcado como relevante e são relevantes)\n",
    "* Porcentagem de negativos verdadeiros (marcado como não relevante e não são relevantes)\n",
    "* Porcentagem de negativos falsos (marcado como não relevante e são relevantes)\n",
    "\n",
    "Opcionalmente:\n",
    "* Criar categorias intermediárias de relevância baseado na diferença de probabilidades. Exemplo: muito relevante, relevante, neutro, irrelevante e muito irrelevante."
   ]
  },
  {
   "cell_type": "code",
   "execution_count": null,
   "metadata": {
    "collapsed": true,
    "scrolled": true
   },
   "outputs": [],
   "source": []
  },
  {
   "cell_type": "markdown",
   "metadata": {
    "collapsed": true
   },
   "source": [
    "___\n",
    "## Concluindo\n",
    "\n",
    "Escreva aqui a sua conclusão.<br /> \n",
    "Faça um comparativo qualitativo sobre as medidas obtidas.<br />\n",
    "Explique como são tratadas as mensagens com dupla negação e sarcasmo.<br />\n",
    "Proponha um plano de expansão. Por que eles devem continuar financiando o seu projeto?<br />\n",
    "\n",
    "Opcionalmente: \n",
    "* Discorrer por que não posso alimentar minha base de Treinamento automaticamente usando o próprio classificador, aplicado a novos tweets.\n",
    "* Propor diferentes cenários de uso para o classificador Naive-Bayes. Cenários sem intersecção com este projeto.\n",
    "* Sugerir e explicar melhorias reais no classificador com indicações concretas de como implementar (não é preciso codificar, mas indicar como fazer e material de pesquisa sobre o assunto).\n"
   ]
  },
  {
   "cell_type": "code",
   "execution_count": null,
   "metadata": {
    "collapsed": true
   },
   "outputs": [],
   "source": []
  }
 ],
 "metadata": {
  "kernelspec": {
   "display_name": "Python 3",
   "language": "python",
   "name": "python3"
  },
  "language_info": {
   "codemirror_mode": {
    "name": "ipython",
    "version": 3
   },
   "file_extension": ".py",
   "mimetype": "text/x-python",
   "name": "python",
   "nbconvert_exporter": "python",
   "pygments_lexer": "ipython3",
   "version": "3.6.0"
  }
 },
 "nbformat": 4,
 "nbformat_minor": 1
}
