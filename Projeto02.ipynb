{
 "cells": [
  {
   "cell_type": "markdown",
   "metadata": {},
   "source": [
    "# Projeto 2 - Classificador Automático de Sentimento\n",
    "\n",
    "Você foi contratado por uma empresa parar analisar como os clientes estão reagindo a um determinado produto no Twitter. A empresa deseja que você crie um programa que irá analisar as mensagens disponíveis e classificará como \"relevante\" ou \"irrelevante\". Com isso ela deseja que mensagens negativas, que denigrem o nome do produto, ou que mereçam destaque, disparem um foco de atenção da área de marketing.<br /><br />\n",
    "Como aluno de Ciência dos Dados, você lembrou do Teorema de Bayes, mais especificamente do Classificador Naive-Bayes, que é largamente utilizado em filtros anti-spam de e-mails. O classificador permite calcular qual a probabilidade de uma mensagem ser relevante dadas as palavras em seu conteúdo.<br /><br />\n",
    "Para realizar o MVP (*minimum viable product*) do projeto, você precisa implementar uma versão do classificador que \"aprende\" o que é relevante com uma base de treinamento e compara a performance dos resultados com uma base de testes.<br /><br />\n",
    "Após validado, o seu protótipo poderá também capturar e classificar automaticamente as mensagens da plataforma.\n",
    "\n",
    "## Informações do Projeto\n",
    "\n",
    "Prazo: 13/Set até às 23:59.<br />\n",
    "Grupo: 1 ou 2 pessoas.<br /><br />\n",
    "Entregáveis via GitHub: \n",
    "* Arquivo notebook com o código do classificador, seguindo as orientações abaixo.\n",
    "* Arquivo Excel com as bases de treinamento e teste totalmente classificado.\n",
    "\n",
    "**NÃO disponibilizar o arquivo com os *access keys/tokens* do Twitter.**\n",
    "\n",
    "\n",
    "### Check 3: \n",
    "\n",
    "Até o dia 06 de Setembro às 23:59, o notebook e o xlsx devem estar no Github com as seguintes evidências: \n",
    "    * Conta no twitter criada.\n",
    "    * Produto escolhido.\n",
    "    * Arquivo Excel contendo a base de treinamento e teste já classificado.\n",
    "\n",
    "Sugestão de leitura:<br />\n",
    "http://docs.tweepy.org/en/v3.5.0/index.html<br />\n",
    "https://monkeylearn.com/blog/practical-explanation-naive-bayes-classifier/"
   ]
  },
  {
   "cell_type": "markdown",
   "metadata": {},
   "source": [
    "___\n",
    "\n",
    "## Preparando o ambiente\n",
    "\n",
    "Instalando a biblioteca *tweepy* para realizar a conexão com o Twitter:"
   ]
  },
  {
   "cell_type": "code",
   "execution_count": 1,
   "metadata": {
    "collapsed": true
   },
   "outputs": [],
   "source": [
    "%%capture\n",
    "\n",
    "#Instalando o tweepy\n",
    "!pip install tweepy"
   ]
  },
  {
   "cell_type": "markdown",
   "metadata": {},
   "source": [
    "Importando as Bibliotecas que serão utilizadas. Esteja livre para adicionar outras."
   ]
  },
  {
   "cell_type": "code",
   "execution_count": 1,
   "metadata": {
    "collapsed": true
   },
   "outputs": [],
   "source": [
    "import tweepy\n",
    "import math\n",
    "import os.path\n",
    "import pandas as pd\n",
    "import json\n",
    "from random import shuffle"
   ]
  },
  {
   "cell_type": "markdown",
   "metadata": {},
   "source": [
    "___\n",
    "## Autenticando no  Twitter\n",
    "\n",
    "Para realizar a captura dos dados é necessário ter uma conta cadastrada no twitter:\n",
    "\n",
    "* Conta: ***[Preencha aqui o id da sua conta. Ex: @fulano ]***\n",
    "\n",
    "\n",
    "1. Caso ainda não tenha uma: https://twitter.com/signup\n",
    "1. Depois é necessário registrar um app para usar a biblioteca: https://apps.twitter.com/\n",
    "1. Dentro do registro do App, na aba Keys and Access Tokens, anotar os seguintes campos:\n",
    "    1. Consumer Key (API Key)\n",
    "    1. Consumer Secret (API Secret)\n",
    "1. Mais abaixo, gere um Token e anote também:\n",
    "    1. Access Token\n",
    "    1. Access Token Secret\n",
    "    \n",
    "1. Preencha os valores no arquivo \"auth.pass\"\n",
    "\n",
    "**ATENÇÃO**: Nunca divulgue os dados desse arquivo online (GitHub, etc). Ele contém as chaves necessárias para realizar as operações no twitter de forma automática e portanto é equivalente a ser \"hackeado\". De posse desses dados, pessoas mal intencionadas podem fazer todas as operações manuais (tweetar, seguir, bloquear/desbloquear, listar os seguidores, etc). Para efeito do projeto, esse arquivo não precisa ser entregue!!!"
   ]
  },
  {
   "cell_type": "code",
   "execution_count": 3,
   "metadata": {
    "collapsed": true
   },
   "outputs": [],
   "source": [
    "#Dados de autenticação do twitter:\n",
    "\n",
    "#Coloque aqui o identificador da conta no twitter: @fulano\n",
    "\n",
    "#leitura do arquivo no formato JSON\n",
    "with open('auth.pass') as fp:    \n",
    "    data = json.load(fp)\n",
    "\n",
    "#Configurando a biblioteca. Não modificar\n",
    "auth = tweepy.OAuthHandler(data['consumer_key'], data['consumer_secret'])\n",
    "auth.set_access_token(data['access_token'], data['access_token_secret'])"
   ]
  },
  {
   "cell_type": "markdown",
   "metadata": {},
   "source": [
    "___\n",
    "## Coletando Dados\n",
    "\n",
    "Agora vamos coletar os dados. Tenha em mente que dependendo do produto escolhido, não haverá uma quantidade significativa de mensagens, ou ainda poder haver muitos retweets.<br /><br /> \n",
    "Configurando:"
   ]
  },
  {
   "cell_type": "code",
   "execution_count": 4,
   "metadata": {
    "collapsed": true
   },
   "outputs": [],
   "source": [
    "#Produto escolhido:\n",
    "produto = 'galaxy'\n",
    "\n",
    "#Quantidade mínima de mensagens capturadas:\n",
    "n = 500\n",
    "#Quantidade mínima de mensagens para a base de treinamento:\n",
    "t = 300\n",
    "\n",
    "#Filtro de língua, escolha uma na tabela ISO 639-1.\n",
    "lang = 'pt'"
   ]
  },
  {
   "cell_type": "markdown",
   "metadata": {},
   "source": [
    "Capturando os dados do twitter:"
   ]
  },
  {
   "cell_type": "code",
   "execution_count": 5,
   "metadata": {
    "collapsed": true
   },
   "outputs": [],
   "source": [
    "#Cria um objeto para a captura\n",
    "api = tweepy.API(auth)\n",
    "\n",
    "#Inicia a captura, para mais detalhes: ver a documentação do tweepy\n",
    "i = 1\n",
    "msgs = []\n",
    "for msg in tweepy.Cursor(api.search, q=produto, lang=lang).items():    \n",
    "    msgs.append(msg.text.lower())\n",
    "    i += 1\n",
    "    if i > n:\n",
    "        break\n",
    "\n",
    "    \n",
    "#Embaralhando as mensagens para reduzir um possível viés\n",
    "shuffle(msgs)"
   ]
  },
  {
   "cell_type": "markdown",
   "metadata": {},
   "source": [
    "Salvando os dados em uma planilha Excel:"
   ]
  },
  {
   "cell_type": "code",
   "execution_count": 6,
   "metadata": {
    "collapsed": true
   },
   "outputs": [],
   "source": [
    "#Verifica se o arquivo não existe para não substituir um conjunto pronto\n",
    "if not os.path.isfile('./{0}.xlsx'.format(produto)):\n",
    "    \n",
    "    #Abre o arquivo para escrita\n",
    "    writer = pd.ExcelWriter('{0}.xlsx'.format(produto))\n",
    "\n",
    "    #divide o conjunto de mensagens em duas planilhas\n",
    "    dft = pd.DataFrame({'Treinamento' : pd.Series(msgs[:t])})\n",
    "    dft.to_excel(excel_writer = writer, sheet_name = 'Treinamento', index = False)\n",
    "\n",
    "    dfc = pd.DataFrame({'Teste' : pd.Series(msgs[t:])})\n",
    "    dfc.to_excel(excel_writer = writer, sheet_name = 'Teste', index = False)\n",
    "\n",
    "    #fecha o arquivo\n",
    "    writer.save()"
   ]
  },
  {
   "cell_type": "markdown",
   "metadata": {},
   "source": [
    "___\n",
    "## Classificando as Mensagens\n",
    "\n",
    "Agora você deve abrir o arquivo Excel com as mensagens capturadas e classificar na Coluna B se a mensagem é relevante ou não.<br /> \n",
    "Não se esqueça de colocar um nome para a coluna na célula **B1**.<br /><br />\n",
    "Fazer o mesmo na planilha de Controle.\n",
    "\n",
    "___\n",
    "## Montando o Classificador Naive-Bayes\n",
    "\n",
    "Com a base de treinamento montada, comece a desenvolver o classificador. Escreva o seu código abaixo:\n",
    "\n",
    "Opcionalmente: \n",
    "* Limpar as mensagens removendo os caracteres: enter, :, \", ', (, ), etc. Não remover emojis.<br />\n",
    "* Corrigir separação de espaços entre palavras e/ou emojis.\n",
    "* Propor outras limpezas/transformações que não afetem a qualidade da informação.\n",
    "\n"
   ]
  },
  {
   "cell_type": "code",
   "execution_count": 74,
   "metadata": {
    "collapsed": true
   },
   "outputs": [],
   "source": [
    "#dados = pd.read_excel('galaxy.xlsx')\n",
    "xls = pd.ExcelFile('galaxy.xlsx')\n",
    "Treinamento= xls.parse('Treinamento')\n",
    "Teste = xls.parse('Teste')\n",
    "# Criando uma coluna nova com valores padrões (NP)\n",
    "# Teste.loc[(Teste.Teste != \"@@@@\"),'Resultado'] = 'NP'\n",
    "# Treinamento.loc[(Treinamento.Treinamento != \"@@@@\" ),'Resultado'] = 'NP'\n",
    "# Treinamento"
   ]
  },
  {
   "cell_type": "code",
   "execution_count": 75,
   "metadata": {
    "collapsed": true,
    "scrolled": true
   },
   "outputs": [],
   "source": [
    "Teste_clas_palavras = []\n",
    "for values in Teste.classificação:\n",
    "    Teste_clas_palavras.append(values.split())\n",
    "\n",
    "    \n",
    "def limpar(frase):\n",
    "    frase_final = frase.replace(\".\",\" \").replace(\",\",\" \").replace(\"?\",\" \").replace(\"!\",\" \").replace(\"-\",\" \")\\\n",
    "    .replace(\":\",\" \").replace(\";\",\" \").replace(\"…\",\" \").replace(\"+\",\" \").replace('(',\" \").replace(\"'\",\" \").replace('\"',\" \")\\\n",
    "    .replace(')',\" \").replace(\"@\",\" \").replace(\"#\",\" \")\n",
    "    return frase_final"
   ]
  },
  {
   "cell_type": "code",
   "execution_count": 115,
   "metadata": {
    "collapsed": true,
    "scrolled": false
   },
   "outputs": [],
   "source": [
    "base_teste = Treinamento.Treinamento\n",
    "clas = Treinamento.classificação\n",
    "dict_pal = dict()\n",
    "\n",
    "for x in range (0, len(base_teste)):\n",
    "    situação = clas[x]\n",
    "    base_teste[x] = limpar(base_teste[x])\n",
    "    twt = base_teste[x].split()\n",
    "    for palavras in twt:\n",
    "\n",
    "        if palavras in dict_pal:\n",
    "            if situação == \"b\":\n",
    "                dict_pal[palavras][0] += 1\n",
    "            else:\n",
    "                dict_pal[palavras][1] += 1\n",
    "        else:\n",
    "            if situação == \"b\":\n",
    "                dict_pal[palavras] = [1,0] # Primeiro item da chave é a quantas vezes essa palavra é boa \n",
    "            else:\n",
    "                dict_pal[palavras] = [0,1] # 2 ITEM DA CHAVE  vezes que a palavra ruim\n",
    "\n",
    "len_dicionario = len(dict_pal)\n",
    "#print(len_dicionario)"
   ]
  },
  {
   "cell_type": "code",
   "execution_count": 77,
   "metadata": {
    "collapsed": false,
    "scrolled": true
   },
   "outputs": [
    {
     "name": "stdout",
     "output_type": "stream",
     "text": [
      "Probabilidade da palavras ser relevante 0.2150854449027696\n",
      "Probabilidade da palavras não relevante 0.7849145550972304\n"
     ]
    }
   ],
   "source": [
    "total_bom = 0\n",
    "total_neutro = 0\n",
    "B = []\n",
    "n = []\n",
    "for values in dict_pal:\n",
    "    total_bom += dict_pal[values][0]\n",
    "    total_neutro += dict_pal[values][1]\n",
    "    \n",
    "# print(total_bom)\n",
    "# print(total_neutro)\n",
    "\n",
    "prob_bom = total_bom/(total_bom+total_neutro)\n",
    "prob_neutro = 1 - prob_bom\n",
    "print(\"Probabilidade da palavras ser relevante\",prob_bom)\n",
    "print(\"Probabilidade da palavras não relevante\",prob_neutro)"
   ]
  },
  {
   "cell_type": "code",
   "execution_count": 114,
   "metadata": {
    "collapsed": false
   },
   "outputs": [],
   "source": [
    "base_teste = Teste.Teste\n",
    "clas = Teste.classificação\n",
    "dict_pal_teste = dict()\n",
    "prob_palavra_rel = dict()\n",
    "prob_palavra_irrel = dict()\n",
    "\n",
    "for x in range (0, len(base_teste)):\n",
    "    prob_frase_bom = 1\n",
    "    prob_frase_neutro = 1\n",
    "\n",
    "    frase = limpar(base_teste[x])\n",
    "    twt = frase.split()\n",
    "    \n",
    "    for palavra in twt:\n",
    "        if palavra in dict_pal:\n",
    "            prob_palavra_rel[palavra] = (dict_pal[palavra][0] + 1)/(total_bom + len_dicionario)\n",
    "            prob_palavra_irrel[palavra] = (dict_pal[palavra][1] + 1)/(total_bom + len_dicionario)\n",
    "            \n",
    "            prob_frase_bom *= prob_palavra_rel[palavra]\n",
    "            prob_frase_neutro *= prob_palavra_irrel[palavra]\n",
    "        \n",
    "        else:\n",
    "            prob_palavra_rel[palavra] = 1/(total_bom + len_dicionario)\n",
    "            prob_palavra_irrel[palavra] = 1/(total_bom + len_dicionario)\n",
    "            \n",
    "            prob_frase_bom *= prob_palavra_rel[palavra]\n",
    "            prob_frase_neutro *= prob_palavra_irrel[palavra]\n",
    "\n",
    "    if prob_frase_bom > prob_frase_neutro:\n",
    "\n",
    "        Teste.loc[(Teste.Teste == base_teste[x]),'Resultado'] = 'b'\n",
    "        \n",
    "    else:\n",
    "        Teste.loc[(Teste.Teste == base_teste[x]),'Resultado'] = 'n'\n",
    "\n",
    "\n",
    "#Teste"
   ]
  },
  {
   "cell_type": "code",
   "execution_count": null,
   "metadata": {
    "collapsed": true
   },
   "outputs": [],
   "source": []
  },
  {
   "cell_type": "markdown",
   "metadata": {},
   "source": [
    "___\n",
    "## Verificando a performance\n",
    "\n",
    "Agora você deve testar o seu Classificador com a base de Testes.<br /><br /> \n",
    "\n",
    "Você deve extrair as seguintes medidas:\n",
    "* Porcentagem de positivos falsos (marcados como relevante mas não são relevantes)\n",
    "* Porcentagem de positivos verdadeiros (marcado como relevante e são relevantes)\n",
    "* Porcentagem de negativos verdadeiros (marcado como não relevante e não são relevantes)\n",
    "* Porcentagem de negativos falsos (marcado como não relevante e são relevantes)\n",
    "\n",
    "Opcionalmente:\n",
    "* Criar categorias intermediárias de relevância baseado na diferença de probabilidades. Exemplo: muito relevante, relevante, neutro, irrelevante e muito irrelevante."
   ]
  },
  {
   "cell_type": "code",
   "execution_count": 121,
   "metadata": {
    "collapsed": false
   },
   "outputs": [
    {
     "name": "stdout",
     "output_type": "stream",
     "text": [
      "\n",
      "\n",
      "NV    133\n",
      "NF     60\n",
      "PF      7\n",
      "Name: Performance, dtype: int64\n",
      "\n",
      "\n",
      "Porcentagem de positivo falso: 0.035\n",
      "Porcentagem de positivo verdadeiro: 0.0\n",
      "Porcentagem de negativo verdadeiro: 0.665\n",
      "Porcentagem de negativo falso: 0.3\n"
     ]
    }
   ],
   "source": [
    "Teste.loc[(Teste.classificação == \"n\")& (Teste.Resultado == \"n\"),'Performance'] = 'NV'\n",
    "Teste.loc[(Teste.classificação == \"b\")& (Teste.Resultado == \"b\"),'Performance'] = 'PV'\n",
    "Teste.loc[(Teste.classificação == \"n\")& (Teste.Resultado == \"b\"),'Performance'] = 'PF'\n",
    "Teste.loc[(Teste.classificação == \"b\")& (Teste.Resultado == \"n\"),'Performance'] = 'NF'\n",
    "\n",
    "print(\"\\n\")\n",
    "\n",
    "print(Teste.Performance.value_counts())\n",
    "\n",
    "NV = Teste.Performance.value_counts()[0]\n",
    "\n",
    "PV = 0 # não houveram positivos verdadeiros\n",
    "\n",
    "NF = Teste.Performance.value_counts()[1]\n",
    "\n",
    "PF = Teste.Performance.value_counts()[2]\n",
    "\n",
    "\n",
    "Porcentagem_NV = NV/(NV+PF+NF+PV)\n",
    "Porcentagem_PV = PV/(NV+PF+NF+PV)\n",
    "Porcentagem_PF = PF/(NV+PF+NF+PV)\n",
    "Porcentagem_NF = NF/(NV+PF+NF+PV)\n",
    "\n",
    "print(\"\\n\")\n",
    "\n",
    "print(\"Porcentagem de positivo falso:\", Porcentagem_PF)\n",
    "print(\"Porcentagem de positivo verdadeiro:\", Porcentagem_PV)\n",
    "print(\"Porcentagem de negativo verdadeiro:\", Porcentagem_NV)\n",
    "print(\"Porcentagem de negativo falso:\", Porcentagem_NF)"
   ]
  },
  {
   "cell_type": "code",
   "execution_count": null,
   "metadata": {
    "collapsed": true,
    "scrolled": true
   },
   "outputs": [],
   "source": []
  },
  {
   "cell_type": "markdown",
   "metadata": {
    "collapsed": true
   },
   "source": [
    "___\n",
    "## Concluindo\n",
    "\n",
    "Escreva aqui a sua conclusão.<br /> \n",
    "Faça um comparativo qualitativo sobre as medidas obtidas.<br />\n",
    "Explique como são tratadas as mensagens com dupla negação e sarcasmo.<br />\n",
    "Proponha um plano de expansão. Por que eles devem continuar financiando o seu projeto?<br />\n",
    "\n",
    "Opcionalmente: \n",
    "* Discorrer por que não posso alimentar minha base de Treinamento automaticamente usando o próprio classificador, aplicado a novos tweets.\n",
    "* Propor diferentes cenários de uso para o classificador Naive-Bayes. Cenários sem intersecção com este projeto.\n",
    "* Sugerir e explicar melhorias reais no classificador com indicações concretas de como implementar (não é preciso codificar, mas indicar como fazer e material de pesquisa sobre o assunto).\n"
   ]
  },
  {
   "cell_type": "markdown",
   "metadata": {
    "collapsed": true
   },
   "source": [
    "## Nossa Conclusão\n",
    "\n",
    "A nossa conclusão foi que a perfomance do nosso classificador não foi satisfatorio pois não houve ocorrência de \"Positivo Verdadeiro\"  que seria a classificação da frase como bom (relevante) da classificação dos tweets no excel. A performance Negativo verdadeiro que seria ambas clasificação da base de treinamento e performance  como irrelevantes  pois ocorrreu um alto numero de acertos por parte do programas.  O quantidade de de negativo falso que é  classificado no excel de Treinamento como relevante mas foi classificado pelo programa como  irrelevante, ocorreu uma quantidade consideravel (30%) desse erro no programa. Ja a positivo falso que  é a classificação do programa para a frase como bom (relevante) mas sua classificação no excel  é irrelevante  , possuiu um pequena ocorrencia igual a 3,5%.\n",
    "\n",
    "As mensagens com dupla negação e sarcasmo são tratadas como as outras frases . Portanto, precisariamos multiplicar as probabilidades de cada palavra da frase  de serem relevantes e irrelevantes   , e comparar a probabilidade da frase ser relevante e irrelevante obtidos para ver qual das duas é maior. Por isso , não se leva conta o sentido ou o contexto.\n",
    "\n",
    "Eles deveriam continuar financiando o nosso projeto pois o programa conseguiu efetuar com uma alta  porcentagem  a  classificação das frase  quando elas são irrelevantes, porém o programa não conseiguiu classificar como relevantes  as frase classificadas como relevantes no excel \"positivo verdadeiro\". Por isso , precisariamos de financiamento para aprimorarmos esse ponto para termos um programa que consiga classificar com uma precisão satisfatoria.\n"
   ]
  },
  {
   "cell_type": "code",
   "execution_count": null,
   "metadata": {
    "collapsed": true
   },
   "outputs": [],
   "source": []
  }
 ],
 "metadata": {
  "kernelspec": {
   "display_name": "Python 3",
   "language": "python",
   "name": "python3"
  },
  "language_info": {
   "codemirror_mode": {
    "name": "ipython",
    "version": 3
   },
   "file_extension": ".py",
   "mimetype": "text/x-python",
   "name": "python",
   "nbconvert_exporter": "python",
   "pygments_lexer": "ipython3",
   "version": "3.6.0"
  }
 },
 "nbformat": 4,
 "nbformat_minor": 1
}
